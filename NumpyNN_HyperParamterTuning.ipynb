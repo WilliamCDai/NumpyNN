{
 "cells": [
  {
   "cell_type": "code",
   "execution_count": 1,
   "id": "1039b166",
   "metadata": {},
   "outputs": [],
   "source": [
    "import yfinance as yf\n",
    "import pandas as pd\n",
    "import datetime\n",
    "import pytz\n",
    "import math\n",
    "import time\n",
    "import numpy as np \n",
    "import datetime as dt\n",
    "import matplotlib.pyplot as plt"
   ]
  },
  {
   "cell_type": "code",
   "execution_count": 2,
   "id": "b00662e1",
   "metadata": {},
   "outputs": [
    {
     "name": "stdout",
     "output_type": "stream",
     "text": [
      "[*********************100%***********************]  1 of 1 completed\n"
     ]
    }
   ],
   "source": [
    "#Imported from Yahoo! finance, the stock value of TSM. This is what we will try to predict\n",
    "\n",
    "data = yf.download(\"TSM\", start=\"2000-09-01\", end=\"2023-07-30\")"
   ]
  },
  {
   "cell_type": "code",
   "execution_count": 3,
   "id": "1cf0f0e3",
   "metadata": {},
   "outputs": [],
   "source": [
    "#Most basic metric: daily return\n",
    "\n",
    "data['return'] = data['Adj Close']/data['Adj Close'].shift() - 1"
   ]
  },
  {
   "cell_type": "code",
   "execution_count": 4,
   "id": "04c4f0c3",
   "metadata": {},
   "outputs": [],
   "source": [
    "#Some other metrics that will be inputted into the neural network as data\n",
    "\n",
    "data['mean_last10days'] = data['return'].rolling(10).mean().shift(1)\n",
    "data['mean_last20days'] = data['return'].rolling(20).mean().shift(1)\n",
    "data['std_last10days'] = data['return'].rolling(10).std().shift(1)\n",
    "data['mean_last20days_weighted'] = data['mean_last20days'] * data['Volume'].rolling(20).sum().shift(1)\n",
    "data['mean10overstd'] = data['mean_last10days']/data['std_last10days']\n",
    "data['mean10overreturn'] = data['mean_last10days']/data['return'].shift(1)\n",
    "data['returnovervolume'] = data['return'].shift(1)/data['Volume'].shift(1)\n",
    "data['return1_corr_return2'] = data['return'].shift(1).rolling(20).corr(data['return'].shift(2))\n",
    "data['mean_last20days_corrweighted'] = data['mean_last20days'] * data['return1_corr_return2']"
   ]
  },
  {
   "cell_type": "code",
   "execution_count": 5,
   "id": "d376bf66",
   "metadata": {},
   "outputs": [
    {
     "name": "stdout",
     "output_type": "stream",
     "text": [
      "[*********************100%***********************]  1 of 1 completed\n",
      "[*********************100%***********************]  1 of 1 completed\n",
      "[*********************100%***********************]  1 of 1 completed\n",
      "[*********************100%***********************]  1 of 1 completed\n",
      "[*********************100%***********************]  1 of 1 completed\n"
     ]
    }
   ],
   "source": [
    "#In addition to metrics based off of TSM stock price, we will also introduce five other indicators\n",
    "\n",
    "spy = yf.download(\"SPY\", start=\"2000-09-01\", end=\"2023-07-30\")\n",
    "qqq = yf.download(\"QQQ\", start=\"2000-09-01\", end=\"2023-07-30\")\n",
    "gold = yf.download(\"GC=F\", start=\"2000-09-01\", end=\"2023-07-30\")\n",
    "oil = yf.download(\"CL=F\", start=\"2000-09-01\", end=\"2023-07-30\")\n",
    "intel = yf.download(\"INTC\", start=\"2000-09-01\", end=\"2023-07-30\")"
   ]
  },
  {
   "cell_type": "code",
   "execution_count": 6,
   "id": "8e9ccac2",
   "metadata": {},
   "outputs": [
    {
     "name": "stderr",
     "output_type": "stream",
     "text": [
      "/var/folders/3f/d2nxdp4945gg5vrpppgw_9mh0000gn/T/ipykernel_1228/3667262523.py:12: FutureWarning: Comparison of Timestamp with datetime.date is deprecated in order to match the standard library behavior. In a future version these will be considered non-comparable. Use 'ts == pd.Timestamp(date)' or 'ts.date() == date' instead.\n",
      "  if(index > dt.datetime(2000,9,5).date()):\n"
     ]
    }
   ],
   "source": [
    "#Making original metric\n",
    "#This metric counts the consecutive number of days that daily return has been positive or negative\n",
    "#Note that for consecutive days with negative return, the metric stores 0, -1, -2, ...\n",
    "\n",
    "increasing = [0]\n",
    "increasing.append(0)\n",
    "cur = 0\n",
    "\n",
    "data['issame'] = data['return']* data['return'].shift(1)\n",
    "\n",
    "for index, row in data.iterrows():\n",
    "    if(index > dt.datetime(2000,9,5).date()):\n",
    "        if(row['issame']>0 and row['return'] > 0): \n",
    "            increasing.append(cur+1)\n",
    "            cur+=1\n",
    "        elif(row['issame']>0 and row['return'] < 0): \n",
    "            increasing.append(cur-1)\n",
    "            cur-=1\n",
    "        else:\n",
    "            increasing.append(0)\n",
    "            cur = 0\n",
    "\n",
    "#len(increasing)"
   ]
  },
  {
   "cell_type": "code",
   "execution_count": 7,
   "id": "178838b9",
   "metadata": {},
   "outputs": [
    {
     "name": "stderr",
     "output_type": "stream",
     "text": [
      "/var/folders/3f/d2nxdp4945gg5vrpppgw_9mh0000gn/T/ipykernel_1228/3726740269.py:10: FutureWarning: Comparison of Timestamp with datetime.date is deprecated in order to match the standard library behavior. In a future version these will be considered non-comparable. Use 'ts == pd.Timestamp(date)' or 'ts.date() == date' instead.\n",
      "  if(index > dt.datetime(2000,9,5).date()):\n"
     ]
    }
   ],
   "source": [
    "#Making original metric\n",
    "#Similar idea as above but for returns\n",
    "#Stores how much stock price has increased since last decrease OR how much it has decreased since last increase\n",
    "\n",
    "streak = [0]\n",
    "streak.append(data.iloc[1]['return'])\n",
    "cur = data.iloc[1]['return']\n",
    "\n",
    "for index, row in data.iterrows():\n",
    "    if(index > dt.datetime(2000,9,5).date()):\n",
    "        if(row['issame']>0 and row['return'] > 0):\n",
    "            cur = (cur+1) * (row['return']+1)-1\n",
    "            streak.append(cur)\n",
    "        elif(row['issame']>0 and row['return'] < 0): \n",
    "            cur = - ((cur+1) * (row['return']+1)-1)\n",
    "            streak.append(cur)\n",
    "        else:\n",
    "            cur = row['return']\n",
    "            streak.append(cur)"
   ]
  },
  {
   "cell_type": "code",
   "execution_count": 8,
   "id": "12e7fba9",
   "metadata": {},
   "outputs": [],
   "source": [
    "#Add new metrics to data\n",
    "data['increasing'] = increasing\n",
    "data['increasing'] = data['increasing'].shift(1)\n",
    "data['streak'] = streak\n",
    "data['streak'] = data['streak'].shift(1)\n",
    "\n",
    "#Weightted return is a metric that highlights return on days where returns have been consistently good or bad\n",
    "data['weighted return'] = data['return'].shift(1) * data['increasing']"
   ]
  },
  {
   "cell_type": "code",
   "execution_count": 9,
   "id": "65bf7dfd",
   "metadata": {},
   "outputs": [],
   "source": [
    "#Data for model\n",
    "\n",
    "for_model = data"
   ]
  },
  {
   "cell_type": "code",
   "execution_count": 10,
   "id": "055ad058",
   "metadata": {},
   "outputs": [],
   "source": [
    "#The following cells make our data useable for our neural network"
   ]
  },
  {
   "cell_type": "code",
   "execution_count": 11,
   "id": "b81f1f83",
   "metadata": {},
   "outputs": [],
   "source": [
    "for_model['spy_Open'] = spy['Open']\n",
    "for_model['spy_High'] = spy['High']\n",
    "for_model['spy_Low'] = spy['Low']\n",
    "for_model['spy_Close'] = spy['Close']\n",
    "for_model['spy_Adj Close'] = spy['Adj Close']\n",
    "for_model['spy_Volume'] = spy['Volume']\n",
    "for_model['spy_return'] = data['spy_Adj Close']/data['spy_Adj Close'].shift() - 1"
   ]
  },
  {
   "cell_type": "code",
   "execution_count": 12,
   "id": "41217086",
   "metadata": {},
   "outputs": [],
   "source": [
    "for_model['qqq_Open'] = qqq['Open']\n",
    "for_model['qqq_High'] = qqq['High']\n",
    "for_model['qqq_Low'] = qqq['Low']\n",
    "for_model['qqq_Close'] = qqq['Close']\n",
    "for_model['qqq_Adj Close'] = qqq['Adj Close']\n",
    "for_model['qqq_Volume'] = qqq['Volume']\n",
    "for_model['qqq_return'] = data['qqq_Adj Close']/data['qqq_Adj Close'].shift() - 1"
   ]
  },
  {
   "cell_type": "code",
   "execution_count": 13,
   "id": "02e227d4",
   "metadata": {},
   "outputs": [],
   "source": [
    "for_model['gold_Open'] = gold['Open']\n",
    "for_model['gold_High'] = gold['High']\n",
    "for_model['gold_Low'] = gold['Low']\n",
    "for_model['gold_Close'] = gold['Close']\n",
    "for_model['gold_Adj Close'] = gold['Adj Close']\n",
    "for_model['gold_Volume'] = gold['Volume']\n",
    "for_model['gold_return'] = data['gold_Adj Close']/data['gold_Adj Close'].shift() - 1"
   ]
  },
  {
   "cell_type": "code",
   "execution_count": 14,
   "id": "6bde8a79",
   "metadata": {},
   "outputs": [],
   "source": [
    "for_model['oil_Open'] = oil['Open']\n",
    "for_model['oil_High'] = oil['High']\n",
    "for_model['oil_Low'] = oil['Low']\n",
    "for_model['oil_Close'] = oil['Close']\n",
    "for_model['oil_Adj Close'] = oil['Adj Close']\n",
    "for_model['oil_Volume'] = oil['Volume']\n",
    "for_model['oil_return'] = data['oil_Adj Close']/data['oil_Adj Close'].shift() - 1"
   ]
  },
  {
   "cell_type": "code",
   "execution_count": 15,
   "id": "9c2e5aea",
   "metadata": {},
   "outputs": [],
   "source": [
    "for_model['intel_Open'] = intel['Open']\n",
    "for_model['intel_High'] = intel['High']\n",
    "for_model['intel_Low'] = intel['Low']\n",
    "for_model['intel_Close'] = intel['Close']\n",
    "for_model['intel_Adj Close'] = intel['Adj Close']\n",
    "for_model['intel_Volume'] = intel['Volume']\n",
    "for_model['intel_return'] = data['intel_Adj Close']/data['intel_Adj Close'].shift() - 1"
   ]
  },
  {
   "cell_type": "code",
   "execution_count": 20,
   "id": "fd13de20",
   "metadata": {},
   "outputs": [],
   "source": [
    "for_model = for_model.reset_index().dropna()"
   ]
  },
  {
   "cell_type": "code",
   "execution_count": 24,
   "id": "0c6ded61",
   "metadata": {},
   "outputs": [],
   "source": [
    "#for_model"
   ]
  },
  {
   "cell_type": "code",
   "execution_count": 25,
   "id": "10e9b482",
   "metadata": {},
   "outputs": [],
   "source": [
    "for_model['D'] = pd.to_datetime(for_model['Date']).dt.date"
   ]
  },
  {
   "cell_type": "code",
   "execution_count": 26,
   "id": "cf82eb64",
   "metadata": {},
   "outputs": [],
   "source": [
    "#Splitting data into training and testing\n",
    "\n",
    "training = for_model[for_model['D'] < dt.datetime(2021,10,1).date()]\n",
    "testing = for_model[for_model['D'] > dt.datetime(2021,10,1).date()]"
   ]
  },
  {
   "cell_type": "code",
   "execution_count": 27,
   "id": "9082ae96",
   "metadata": {},
   "outputs": [],
   "source": [
    "#Split into input and output\n",
    "\n",
    "Y_data = for_model['return']\n",
    "X_data = for_model[['mean_last10days', 'mean_last20days', 'std_last10days', 'mean_last20days_weighted', 'mean10overstd', 'returnovervolume', 'return1_corr_return2', 'mean_last20days_corrweighted', 'issame', 'increasing', 'streak', 'weighted return', 'Open', 'High', 'Low', 'Close', 'Adj Close', 'Volume', 'spy_Open', 'spy_Close', 'spy_High', 'spy_Low', 'spy_Adj Close', 'spy_Volume', 'spy_return', 'qqq_Open', 'qqq_Close', 'qqq_High', 'qqq_Low', 'qqq_Adj Close', 'qqq_Volume', 'qqq_return', 'gold_Open', 'gold_Close', 'gold_High', 'gold_Low', 'gold_Adj Close', 'gold_Volume', 'gold_return', 'oil_Open', 'oil_Close', 'oil_High', 'oil_Low', 'oil_Adj Close', 'oil_Volume', 'oil_return', 'intel_Open', 'intel_Close', 'intel_High', 'intel_Low', 'intel_Adj Close', 'intel_Volume', 'intel_return']]\n",
    "Y_data = Y_data.to_numpy()\n",
    "X_data = X_data.to_numpy().T"
   ]
  },
  {
   "cell_type": "code",
   "execution_count": 28,
   "id": "04076277",
   "metadata": {},
   "outputs": [],
   "source": [
    "#find maximums for each data point\n",
    "#For normalizing data later on which icnreases performance\n",
    "\n",
    "maxes = np.max(X_data, axis=1, keepdims=True)\n",
    "#maxes"
   ]
  },
  {
   "cell_type": "code",
   "execution_count": 30,
   "id": "1e521925",
   "metadata": {},
   "outputs": [],
   "source": [
    "#testing"
   ]
  },
  {
   "cell_type": "code",
   "execution_count": 31,
   "id": "faba358a",
   "metadata": {},
   "outputs": [],
   "source": [
    "#Split training and testing data into input and output like above\n",
    "\n",
    "Y_dev = training['return']\n",
    "X_dev = training[['mean_last10days', 'mean_last20days', 'std_last10days', 'mean_last20days_weighted', 'mean10overstd', 'returnovervolume', 'return1_corr_return2', 'mean_last20days_corrweighted', 'issame', 'increasing', 'streak', 'weighted return', 'Open', 'High', 'Low', 'Close', 'Adj Close', 'Volume', 'spy_Open', 'spy_Close', 'spy_High', 'spy_Low', 'spy_Adj Close', 'spy_Volume', 'spy_return', 'qqq_Open', 'qqq_Close', 'qqq_High', 'qqq_Low', 'qqq_Adj Close', 'qqq_Volume', 'qqq_return', 'gold_Open', 'gold_Close', 'gold_High', 'gold_Low', 'gold_Adj Close', 'gold_Volume', 'gold_return', 'oil_Open', 'oil_Close', 'oil_High', 'oil_Low', 'oil_Adj Close', 'oil_Volume', 'oil_return', 'intel_Open', 'intel_Close', 'intel_High', 'intel_Low', 'intel_Adj Close', 'intel_Volume', 'intel_return']]\n",
    "Y_train = testing['return']\n",
    "X_train = testing[['mean_last10days', 'mean_last20days', 'std_last10days', 'mean_last20days_weighted', 'mean10overstd', 'returnovervolume', 'return1_corr_return2', 'mean_last20days_corrweighted', 'issame', 'increasing', 'streak', 'weighted return', 'Open', 'High', 'Low', 'Close', 'Adj Close', 'Volume', 'spy_Open', 'spy_Close', 'spy_High', 'spy_Low', 'spy_Adj Close', 'spy_Volume', 'spy_return', 'qqq_Open', 'qqq_Close', 'qqq_High', 'qqq_Low', 'qqq_Adj Close', 'qqq_Volume', 'qqq_return', 'gold_Open', 'gold_Close', 'gold_High', 'gold_Low', 'gold_Adj Close', 'gold_Volume', 'gold_return', 'oil_Open', 'oil_Close', 'oil_High', 'oil_Low', 'oil_Adj Close', 'oil_Volume', 'oil_return', 'intel_Open', 'intel_Close', 'intel_High', 'intel_Low', 'intel_Adj Close', 'intel_Volume', 'intel_return']]\n"
   ]
  },
  {
   "cell_type": "code",
   "execution_count": 32,
   "id": "89c9e9b3",
   "metadata": {},
   "outputs": [],
   "source": [
    "#Transpose (necessary for matrix multiplication for NN)\n",
    "\n",
    "Y_dev = Y_dev.to_numpy()\n",
    "X_dev = X_dev.to_numpy().T\n",
    "Y_train = Y_train.to_numpy()\n",
    "X_train = X_train.to_numpy().T"
   ]
  },
  {
   "cell_type": "code",
   "execution_count": 33,
   "id": "cdc827a5",
   "metadata": {},
   "outputs": [],
   "source": [
    "#Normalize data\n",
    "\n",
    "X_dev = X_dev / maxes\n",
    "X_train = X_train / maxes"
   ]
  },
  {
   "cell_type": "code",
   "execution_count": 35,
   "id": "74939a6b",
   "metadata": {},
   "outputs": [],
   "source": [
    "#X_train"
   ]
  },
  {
   "cell_type": "code",
   "execution_count": 36,
   "id": "39d4fc7e",
   "metadata": {},
   "outputs": [
    {
     "data": {
      "text/plain": [
       "5242"
      ]
     },
     "execution_count": 36,
     "metadata": {},
     "output_type": "execute_result"
    }
   ],
   "source": [
    "m, n = training.shape\n",
    "m"
   ]
  },
  {
   "cell_type": "code",
   "execution_count": 37,
   "id": "8d798952",
   "metadata": {},
   "outputs": [],
   "source": [
    "#This code cell is a very simple implementation of a CNN\n",
    "#Somewhat funnily, there are no pooling layers\n",
    "\n",
    "def init_params(layers, layer_sizes):\n",
    "    weights = []\n",
    "    biases = []\n",
    "    for i in range(layers - 1):\n",
    "        weights.append(np.random.rand(layer_sizes[i+1], layer_sizes[i]) * 2 - 1)\n",
    "        biases.append(np.random.rand(layer_sizes[i+1], 1) * 2 - 1)\n",
    "    return weights, biases\n",
    "\n",
    "def ReLU(Z):\n",
    "    return np.minimum(np.maximum(Z, 0), 1)\n",
    "\n",
    "def softmax(Z):\n",
    "    A = np.exp(Z - 100) / np.sum(np.exp(Z - 100), axis=0)\n",
    "    return A\n",
    "\n",
    "#Splits up outputs into 22 possibilities\n",
    "#Buckets of return: 20 buckets splitting up -10% to 10% into 20 intervals, 2 buckets for above 10% and below -10%\n",
    "def toIndex(y):\n",
    "    ind = 0\n",
    "    if(y < 0.1 and -0.1 <= y):\n",
    "        ind = int(np.floor((y+0.1)*100)+1)\n",
    "    elif(y<0.1):\n",
    "        ind = 0\n",
    "    else:\n",
    "        ind = 21\n",
    "    return ind\n",
    "\n",
    "#Forward prop\n",
    "#Uses ReLU for all layers but last layer as activation function. Softmax for last\n",
    "def forward_prop(layers, weights, biases, X):\n",
    "    Z = []\n",
    "    A = []\n",
    "    Z.append(weights[0].dot(X) + biases[0])\n",
    "    A.append(ReLU(Z[0]))\n",
    "    for i in range(1, layers - 2):\n",
    "        Z.append(weights[i].dot(A[i-1]) + biases[i])\n",
    "        A.append(ReLU(Z[i]))\n",
    "    Z.append(weights[layers - 2].dot(A[layers - 3]) + biases[layers - 2])\n",
    "    A.append(softmax(Z[layers - 2]))\n",
    "    return Z, A\n",
    "\n",
    "def ReLU_deriv(Z):\n",
    "    return (Z >= 0) & (Z <= 1)\n",
    "\n",
    "def one_hot(Y):\n",
    "    one_hot_Y = np.zeros((22, m))\n",
    "    for i in range(0, m):\n",
    "        one_hot_Y[toIndex(Y[i])][i] = 1\n",
    "    return one_hot_Y\n",
    "\n",
    "#Backwards prop to find out how to change parameters\n",
    "def backward_prop(Z, A, weights, biases, X, Y, layers):\n",
    "    dWeights = []\n",
    "    dBiases = []\n",
    "    one_hot_Y = one_hot(Y)\n",
    "    dZ = A[layers - 2] - one_hot_Y\n",
    "    dWeights.append(1 / m * dZ.dot(A[layers - 3].T))\n",
    "    dBiases.append(1 / m * np.sum(dZ))\n",
    "    for i in reversed(range(1, layers - 2)):\n",
    "        dZ = weights[i + 1].T.dot(dZ) * ReLU_deriv(Z[i])\n",
    "        dWeights.append(1 / m * dZ.dot(A[i - 1].T))\n",
    "        dBiases.append(1 / m * np.sum(dZ))\n",
    "    dZ = weights[1].T.dot(dZ) * ReLU_deriv(Z[0])\n",
    "    dWeights.append(1 / m * dZ.dot(X.T))\n",
    "    dBiases.append(1 / m * np.sum(dZ))\n",
    "    return dWeights, dBiases\n",
    "\n",
    "#Change parameters\n",
    "def update_params(weights, biases, dWeights, dBiases, alpha, layers):\n",
    "    for i in range(layers - 1):\n",
    "        weights[i] = weights[i] - alpha * dWeights[layers - 2 - i]\n",
    "        biases[i] = biases[i] - alpha * dBiases[layers - 2 - i]\n",
    "    return weights, biases"
   ]
  },
  {
   "cell_type": "code",
   "execution_count": 38,
   "id": "bd368060",
   "metadata": {},
   "outputs": [],
   "source": [
    "\n",
    "def get_predictions(A2):\n",
    "    return np.argmax(A2, 0)\n",
    "\n",
    "def get_accuracy(predictions, Y):\n",
    "    ksum = 0\n",
    "    for i in range(0, m):\n",
    "        if(predictions[i] == toIndex(Y[i])):\n",
    "            ksum = ksum + 1\n",
    "    return ksum / m\n",
    "\n",
    "#this function repeatedly runs forward and backward propagation to train neural network \n",
    "def gradient_descent(X, Y, alpha, iterations, limit, layers, layer_sizes):\n",
    "    weights, biases = init_params(layers, layer_sizes)\n",
    "    start = time.time()\n",
    "    while(time.time() - start < limit):\n",
    "        Z, A = forward_prop(layers, weights, biases, X)\n",
    "        dWeights, dBiases = backward_prop(Z, A, weights, biases, X, Y, layers)\n",
    "        weights, biases = update_params(weights, biases, dWeights, dBiases, alpha, layers)\n",
    "    print(\"Iteration: \", iterations)\n",
    "    predictions = get_predictions(A[layers - 2])\n",
    "    print(get_accuracy(predictions, Y))\n",
    "    print(easy_get_accuracy(predictions, Y))\n",
    "    return weights, biases\n",
    "\n",
    "#The above two cells conclude the code needed to initialize and train a neural network\n",
    "#With a given number of layers and layer sizes"
   ]
  },
  {
   "cell_type": "code",
   "execution_count": 39,
   "id": "da7dabc8",
   "metadata": {},
   "outputs": [],
   "source": [
    "#This next cell contains some functions to calculate accuracy on training data as will as different ways of\n",
    "#defining accuracy\n",
    "#easy_get_accuracy and easy_get_accuracy_train calculate accuracy and testing and training data, respectively\n",
    "#if an accurate prediction of positive or negative return is considered correct\n",
    "#Recall that returns have been split into 22 buckets, normal accuracy counts how often NN gets bucket right\n",
    "\n",
    "def make_predictions(layers, weights, biases, X):\n",
    "    Z, A = forward_prop(layers, weights, biases, X)\n",
    "    predictions = get_predictions(A[layers - 2])\n",
    "    return predictions\n",
    "\n",
    "def easy_get_accuracy(predictions, Y):\n",
    "    ksum = 0\n",
    "    for i in range(0, m):\n",
    "        if((predictions[i] > 10 and toIndex(Y[i]) > 10) or (predictions[i] < 11 and toIndex(Y[i]) < 11)):\n",
    "            ksum = ksum + 1\n",
    "    return ksum / m\n",
    "\n",
    "def easy_get_accuracy_train(predictions, Y):\n",
    "    ksum = 0\n",
    "    for i in range(0, 457):\n",
    "        if((predictions[i] > 10 and toIndex(Y[i]) > 10) or (predictions[i] < 11 and toIndex(Y[i]) < 11)):\n",
    "            ksum = ksum + 1\n",
    "    return ksum / 457\n",
    "\n",
    "def get_accuracy_train(predictions, Y):\n",
    "    ksum = 0\n",
    "    for i in range(0, 457):\n",
    "        if(predictions[i] == toIndex(Y[i])):\n",
    "            ksum = ksum + 1\n",
    "    return ksum / 457"
   ]
  },
  {
   "cell_type": "code",
   "execution_count": 50,
   "id": "689ffdf6",
   "metadata": {},
   "outputs": [],
   "source": [
    "#Contains three hyperparameter-tuning schemes\n",
    "\n",
    "#Random search defines random layers and layer_sizes\n",
    "#There are some bounds on how big a layer can be and how many layers there can be\n",
    "#t is how long to search for\n",
    "def random_search(t):\n",
    "    start = time.time()\n",
    "    iteration = 1\n",
    "    maxAccuracy = 0\n",
    "    maxEasyAccuracy = 0\n",
    "    while(time.time() - start < t):\n",
    "        #Change max layer count:\n",
    "        layers = int(np.floor(np.random.rand() * 7) + 3)\n",
    "        #Change max layer size:\n",
    "        layer_sizes = np.floor(np.random.rand(layers) * 100) + 1\n",
    "        layer_sizes = layer_sizes.astype(int)\n",
    "        layer_sizes[0] = 53\n",
    "        layer_sizes[layers - 1] = 22\n",
    "        weights, biases = gradient_descent(X_dev, Y_dev, 0.1, iteration, 60, layers, layer_sizes)\n",
    "        Accuracy, EasyAccuracy = evaluate(layers, weights, biases)\n",
    "        print(Accuracy, \" \", EasyAccuracy)\n",
    "        maxAccuracy = max(maxAccuracy, Accuracy)\n",
    "        maxEasyAccuracy = max(maxEasyAccuracy, EasyAccuracy)\n",
    "        iteration = iteration + 1\n",
    "    print(maxAccuracy)\n",
    "    print(maxEasyAccuracy)\n",
    "    \n",
    "#Grid search initializes and train NNs at predetermined intervals\n",
    "def grid_search():\n",
    "    start = time.time()\n",
    "    iteration = 1\n",
    "    maxAccuracy = 0\n",
    "    maxEasyAccuracy = 0\n",
    "    \n",
    "    #change to range(2, 2^k) for maximum of k layers\n",
    "    for i in range(2, 256):\n",
    "        layers = int(math.log(i, 2)) + 2\n",
    "        layer_sizes = np.zeros(layers)\n",
    "        for j in range(0, layers - 2):\n",
    "            \n",
    "            #Checks for layer sizes 25 and 75 by using bit values of i\n",
    "            #Can be changed\n",
    "            if(int(i / (2**j)) % 2):\n",
    "                layer_sizes[j+1] = 75\n",
    "            else:\n",
    "                layer_sizes[j+1] = 25\n",
    "        layer_sizes[0] = 53\n",
    "        layer_sizes[layers - 1] = 22\n",
    "        layer_sizes = layer_sizes.astype(int)\n",
    "        weights, biases = gradient_descent(X_dev, Y_dev, 0.1, iteration, 60, layers, layer_sizes)\n",
    "        Accuracy, EasyAccuracy = evaluate(layers, weights, biases)\n",
    "        print(Accuracy, \" \", EasyAccuracy)\n",
    "        maxAccuracy = max(maxAccuracy, Accuracy)\n",
    "        maxEasyAccuracy = max(maxEasyAccuracy, EasyAccuracy)\n",
    "        iteration = iteration + 1\n",
    "    print(maxAccuracy)\n",
    "    print(maxEasyAccuracy)\n",
    "\n",
    "    \n",
    "#Proper bayesian_optimization looks at some data points and assumes somes relationship between current and next\n",
    "#data points\n",
    "#Used a rectangular distribution to linearize relationship to simplify implementation\n",
    "def bayesian_optimization(t):\n",
    "    start = time.time()\n",
    "    iteration = 1\n",
    "    maxAccuracy = 0\n",
    "    maxEasyAccuracy = 0\n",
    "    layers = 3\n",
    "    layer_sizes = [60, 60, 60, 60, 60, 60, 60]\n",
    "    while(time.time() - start < t):\n",
    "        for i in range(0, layers - 2):\n",
    "            for j in range(0, 3):\n",
    "                tls = layer_sizes[0: layers - 2]\n",
    "                tls[i] = int(np.random.rand() * 100 + 1)\n",
    "                weights, biases = gradient_descent(X_dev, Y_dev, 0.1, iteration, 60, layers, [53] + tls + [22])\n",
    "                Accuracy, EasyAccuracy = evaluate(layers, weights, biases)\n",
    "                if(Accuracy > maxAccuracy):\n",
    "                    layer_sizes[i] = tls[i]\n",
    "                print(Accuracy, \" \", EasyAccuracy)\n",
    "                maxAccuracy = max(maxAccuracy, Accuracy)\n",
    "                maxEasyAccuracy = max(maxEasyAccuracy, EasyAccuracy)\n",
    "                iteration = iteration + 1\n",
    "        for i in range(3, 10):\n",
    "            weights, biases = gradient_descent(X_dev, Y_dev, 0.1, iteration, 60, layers, [53] + layer_sizes[0: layers - 2] + [22])\n",
    "            Accuracy, EasyAccuracy = evaluate(layers, weights, biases)\n",
    "            if(Accuracy > maxAccuracy):\n",
    "                layers = i\n",
    "            print(Accuracy, \" \", EasyAccuracy)\n",
    "            maxAccuracy = max(maxAccuracy, Accuracy)\n",
    "            maxEasyAccuracy = max(maxEasyAccuracy, EasyAccuracy)\n",
    "            iteration = iteration + 1\n",
    "    \n",
    "            \n",
    "            \n",
    "def evaluate(layers, weights, biases):\n",
    "    predictions = make_predictions(layers, weights, biases, X_train)\n",
    "    Accuracy = get_accuracy_train(predictions, Y_train)\n",
    "    EasyAccuracy = easy_get_accuracy_train(predictions, Y_train)\n",
    "    return Accuracy, EasyAccuracy"
   ]
  },
  {
   "cell_type": "code",
   "execution_count": 51,
   "id": "45070ae9",
   "metadata": {},
   "outputs": [
    {
     "ename": "KeyboardInterrupt",
     "evalue": "",
     "output_type": "error",
     "traceback": [
      "\u001b[0;31m---------------------------------------------------------------------------\u001b[0m",
      "\u001b[0;31mKeyboardInterrupt\u001b[0m                         Traceback (most recent call last)",
      "Cell \u001b[0;32mIn[51], line 3\u001b[0m\n\u001b[1;32m      1\u001b[0m \u001b[38;5;66;03m#Testing\u001b[39;00m\n\u001b[0;32m----> 3\u001b[0m \u001b[43mbayesian_optimization\u001b[49m\u001b[43m(\u001b[49m\u001b[38;5;241;43m60\u001b[39;49m\u001b[43m)\u001b[49m\n\u001b[1;32m      4\u001b[0m grid_search()\n\u001b[1;32m      5\u001b[0m random_search()\n",
      "Cell \u001b[0;32mIn[50], line 75\u001b[0m, in \u001b[0;36mbayesian_optimization\u001b[0;34m(t)\u001b[0m\n\u001b[1;32m     73\u001b[0m tls \u001b[38;5;241m=\u001b[39m layer_sizes[\u001b[38;5;241m0\u001b[39m: layers \u001b[38;5;241m-\u001b[39m \u001b[38;5;241m2\u001b[39m]\n\u001b[1;32m     74\u001b[0m tls[i] \u001b[38;5;241m=\u001b[39m \u001b[38;5;28mint\u001b[39m(np\u001b[38;5;241m.\u001b[39mrandom\u001b[38;5;241m.\u001b[39mrand() \u001b[38;5;241m*\u001b[39m \u001b[38;5;241m100\u001b[39m \u001b[38;5;241m+\u001b[39m \u001b[38;5;241m1\u001b[39m)\n\u001b[0;32m---> 75\u001b[0m weights, biases \u001b[38;5;241m=\u001b[39m \u001b[43mgradient_descent\u001b[49m\u001b[43m(\u001b[49m\u001b[43mX_dev\u001b[49m\u001b[43m,\u001b[49m\u001b[43m \u001b[49m\u001b[43mY_dev\u001b[49m\u001b[43m,\u001b[49m\u001b[43m \u001b[49m\u001b[38;5;241;43m0.1\u001b[39;49m\u001b[43m,\u001b[49m\u001b[43m \u001b[49m\u001b[43miteration\u001b[49m\u001b[43m,\u001b[49m\u001b[43m \u001b[49m\u001b[38;5;241;43m60\u001b[39;49m\u001b[43m,\u001b[49m\u001b[43m \u001b[49m\u001b[43mlayers\u001b[49m\u001b[43m,\u001b[49m\u001b[43m \u001b[49m\u001b[43m[\u001b[49m\u001b[38;5;241;43m53\u001b[39;49m\u001b[43m]\u001b[49m\u001b[43m \u001b[49m\u001b[38;5;241;43m+\u001b[39;49m\u001b[43m \u001b[49m\u001b[43mtls\u001b[49m\u001b[43m \u001b[49m\u001b[38;5;241;43m+\u001b[39;49m\u001b[43m \u001b[49m\u001b[43m[\u001b[49m\u001b[38;5;241;43m22\u001b[39;49m\u001b[43m]\u001b[49m\u001b[43m)\u001b[49m\n\u001b[1;32m     76\u001b[0m Accuracy, EasyAccuracy \u001b[38;5;241m=\u001b[39m evaluate(layers, weights, biases)\n\u001b[1;32m     77\u001b[0m \u001b[38;5;28;01mif\u001b[39;00m(Accuracy \u001b[38;5;241m>\u001b[39m maxAccuracy):\n",
      "Cell \u001b[0;32mIn[38], line 16\u001b[0m, in \u001b[0;36mgradient_descent\u001b[0;34m(X, Y, alpha, iterations, limit, layers, layer_sizes)\u001b[0m\n\u001b[1;32m     14\u001b[0m \u001b[38;5;28;01mwhile\u001b[39;00m(time\u001b[38;5;241m.\u001b[39mtime() \u001b[38;5;241m-\u001b[39m start \u001b[38;5;241m<\u001b[39m limit):\n\u001b[1;32m     15\u001b[0m     Z, A \u001b[38;5;241m=\u001b[39m forward_prop(layers, weights, biases, X)\n\u001b[0;32m---> 16\u001b[0m     dWeights, dBiases \u001b[38;5;241m=\u001b[39m \u001b[43mbackward_prop\u001b[49m\u001b[43m(\u001b[49m\u001b[43mZ\u001b[49m\u001b[43m,\u001b[49m\u001b[43m \u001b[49m\u001b[43mA\u001b[49m\u001b[43m,\u001b[49m\u001b[43m \u001b[49m\u001b[43mweights\u001b[49m\u001b[43m,\u001b[49m\u001b[43m \u001b[49m\u001b[43mbiases\u001b[49m\u001b[43m,\u001b[49m\u001b[43m \u001b[49m\u001b[43mX\u001b[49m\u001b[43m,\u001b[49m\u001b[43m \u001b[49m\u001b[43mY\u001b[49m\u001b[43m,\u001b[49m\u001b[43m \u001b[49m\u001b[43mlayers\u001b[49m\u001b[43m)\u001b[49m\n\u001b[1;32m     17\u001b[0m     weights, biases \u001b[38;5;241m=\u001b[39m update_params(weights, biases, dWeights, dBiases, alpha, layers)\n\u001b[1;32m     18\u001b[0m \u001b[38;5;28mprint\u001b[39m(\u001b[38;5;124m\"\u001b[39m\u001b[38;5;124mIteration: \u001b[39m\u001b[38;5;124m\"\u001b[39m, iterations)\n",
      "Cell \u001b[0;32mIn[37], line 50\u001b[0m, in \u001b[0;36mbackward_prop\u001b[0;34m(Z, A, weights, biases, X, Y, layers)\u001b[0m\n\u001b[1;32m     48\u001b[0m dWeights \u001b[38;5;241m=\u001b[39m []\n\u001b[1;32m     49\u001b[0m dBiases \u001b[38;5;241m=\u001b[39m []\n\u001b[0;32m---> 50\u001b[0m one_hot_Y \u001b[38;5;241m=\u001b[39m \u001b[43mone_hot\u001b[49m\u001b[43m(\u001b[49m\u001b[43mY\u001b[49m\u001b[43m)\u001b[49m\n\u001b[1;32m     51\u001b[0m dZ \u001b[38;5;241m=\u001b[39m A[layers \u001b[38;5;241m-\u001b[39m \u001b[38;5;241m2\u001b[39m] \u001b[38;5;241m-\u001b[39m one_hot_Y\n\u001b[1;32m     52\u001b[0m dWeights\u001b[38;5;241m.\u001b[39mappend(\u001b[38;5;241m1\u001b[39m \u001b[38;5;241m/\u001b[39m m \u001b[38;5;241m*\u001b[39m dZ\u001b[38;5;241m.\u001b[39mdot(A[layers \u001b[38;5;241m-\u001b[39m \u001b[38;5;241m3\u001b[39m]\u001b[38;5;241m.\u001b[39mT))\n",
      "Cell \u001b[0;32mIn[37], line 44\u001b[0m, in \u001b[0;36mone_hot\u001b[0;34m(Y)\u001b[0m\n\u001b[1;32m     42\u001b[0m one_hot_Y \u001b[38;5;241m=\u001b[39m np\u001b[38;5;241m.\u001b[39mzeros((\u001b[38;5;241m22\u001b[39m, m))\n\u001b[1;32m     43\u001b[0m \u001b[38;5;28;01mfor\u001b[39;00m i \u001b[38;5;129;01min\u001b[39;00m \u001b[38;5;28mrange\u001b[39m(\u001b[38;5;241m0\u001b[39m, m):\n\u001b[0;32m---> 44\u001b[0m     one_hot_Y[toIndex(Y[i])][i] \u001b[38;5;241m=\u001b[39m \u001b[38;5;241m1\u001b[39m\n\u001b[1;32m     45\u001b[0m \u001b[38;5;28;01mreturn\u001b[39;00m one_hot_Y\n",
      "\u001b[0;31mKeyboardInterrupt\u001b[0m: "
     ]
    }
   ],
   "source": [
    "#Testing\n",
    "\n",
    "bayesian_optimization(60)\n",
    "grid_search()\n",
    "random_search()"
   ]
  },
  {
   "cell_type": "code",
   "execution_count": 62,
   "id": "2990be13",
   "metadata": {},
   "outputs": [],
   "source": [
    "def gradient_descent2(X, Y, alpha, limit, layers, layer_sizes):\n",
    "    it = 0\n",
    "    AG = np.zeros(shape=(2000))\n",
    "    EAG = np.zeros(shape=(2000))\n",
    "    weights, biases = init_params(layers, layer_sizes)\n",
    "    start = time.time()\n",
    "    while(time.time() - start < limit):\n",
    "        Z, A = forward_prop(layers, weights, biases, X)\n",
    "        dWeights, dBiases = backward_prop(Z, A, weights, biases, X, Y, layers)\n",
    "        weights, biases = update_params(weights, biases, dWeights, dBiases, alpha, layers)\n",
    "        predictions = get_predictions(A[layers - 2])\n",
    "        AG[it] = get_accuracy(predictions, Y)\n",
    "        EAG[it] = easy_get_accuracy(predictions, Y)\n",
    "        it = it + 1\n",
    "    return AG, EAG\n",
    "        \n",
    "AG, EAG = gradient_descent2(X_dev, Y_dev, 0.11, 60, 4, [53, 60, 60, 22])"
   ]
  },
  {
   "cell_type": "code",
   "execution_count": 63,
   "id": "b6d24d4c",
   "metadata": {},
   "outputs": [
    {
     "data": {
      "text/plain": [
       "array([0.05665776, 0.12056467, 0.13353682, ..., 0.        , 0.        ,\n",
       "       0.        ])"
      ]
     },
     "execution_count": 63,
     "metadata": {},
     "output_type": "execute_result"
    }
   ],
   "source": [
    "AG"
   ]
  },
  {
   "cell_type": "code",
   "execution_count": 78,
   "id": "b529a081",
   "metadata": {},
   "outputs": [
    {
     "data": {
      "image/png": "[encoded data removed]",
      "text/plain": [
       "<Figure size 640x480 with 1 Axes>"
      ]
     },
     "metadata": {},
     "output_type": "display_data"
    }
   ],
   "source": [
    "plt.plot(AG[0: 1050], label = 'Absolute Accuracy')\n",
    "plt.plot(EAG[0: 1050], label = 'Loose Accuracy')\n",
    "\n",
    "plt.xlabel('Epochs')\n",
    "plt.ylabel('Accuracy')\n",
    "plt.title('Absolute Accuracy and Loose Accuracy')\n",
    "plt.legend(loc=\"upper left\")\n",
    "\n",
    "plt.show()"
   ]
  },
  {
   "cell_type": "code",
   "execution_count": null,
   "id": "f5676fd1",
   "metadata": {},
   "outputs": [],
   "source": []
  }
 ],
 "metadata": {
  "kernelspec": {
   "display_name": "Python 3 (ipykernel)",
   "language": "python",
   "name": "python3"
  },
  "language_info": {
   "codemirror_mode": {
    "name": "ipython",
    "version": 3
   },
   "file_extension": ".py",
   "mimetype": "text/x-python",
   "name": "python",
   "nbconvert_exporter": "python",
   "pygments_lexer": "ipython3",
   "version": "3.10.9"
  }
 },
 "nbformat": 4,
 "nbformat_minor": 5
}
